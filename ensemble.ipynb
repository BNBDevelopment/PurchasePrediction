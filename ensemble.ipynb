{
 "cells": [
  {
   "cell_type": "code",
   "execution_count": 1,
   "id": "ac024897",
   "metadata": {},
   "outputs": [],
   "source": [
    "import numpy as np\n",
    "import pandas as pd"
   ]
  },
  {
   "cell_type": "code",
   "execution_count": 2,
   "id": "b5cc3df8",
   "metadata": {},
   "outputs": [],
   "source": [
    "sub0 = pd.read_csv('./submission/weekly_trending_products.csv').sort_values('customer_id').reset_index(drop=True)                \n",
    "sub1 = pd.read_csv('./submission/age_bins.csv').sort_values('customer_id').reset_index(drop=True)                \n",
    "sub2 = pd.read_csv('./submission/clustering.csv').sort_values('customer_id').reset_index(drop=True)\n",
    "sub3 = pd.read_csv('./submission/svd.csv').sort_values('customer_id').reset_index(drop=True)\n",
    "sub4 = pd.read_csv('./submission/most_frequently_bought_products.csv').sort_values('customer_id').reset_index(drop=True)"
   ]
  },
  {
   "cell_type": "code",
   "execution_count": 3,
   "id": "81c99a9f",
   "metadata": {},
   "outputs": [],
   "source": [
    "sub0.columns = ['customer_id', 'prediction0']\n",
    "sub0['prediction1'] = sub1['prediction']\n",
    "sub0['prediction2'] = sub2['prediction']\n",
    "sub0['prediction3'] = sub3['prediction']\n",
    "sub0['prediction4'] = sub4['prediction']"
   ]
  },
  {
   "cell_type": "code",
   "execution_count": 4,
   "id": "21e56a7a",
   "metadata": {},
   "outputs": [],
   "source": [
    "def weighted_prediction(dt, weights = [1,1,1,1]):\n",
    "    REC = []\n",
    "    REC.append(dt['prediction0'].split())\n",
    "    REC.append(dt['prediction1'].split())\n",
    "    REC.append(dt['prediction2'].split())\n",
    "    REC.append(dt['prediction3'].split())\n",
    "    REC.append(dt['prediction4'].split())\n",
    "    res = {}\n",
    "    for M in range(len(REC)):\n",
    "        for n, v in enumerate(REC We [M]):\n",
    "            if v in res:\n",
    "                res[v] += (weights[M]/(n+1))\n",
    "            else:\n",
    "                res[v] = (weights[M]/(n+1))\n",
    "\n",
    "    res = list(dict(sorted(res.items(), key=lambda item: -item[1])).keys())\n",
    "\n",
    "    return ' '.join(res[:12])\n",
    "\n",
    "sub0['prediction'] = sub0.apply(weighted_prediction, weights=[0.92, 1.0, 0.88, 1.6, 0.6], axis=1)"
   ]
  },
  {
   "cell_type": "code",
   "execution_count": 5,
   "id": "33c62489",
   "metadata": {},
   "outputs": [],
   "source": [
    "del sub0['prediction0']\n",
    "del sub0['prediction1']\n",
    "del sub0['prediction2']\n",
    "del sub0['prediction3']\n",
    "del sub0['prediction4']\n",
    "\n",
    "sub0.to_csv('./submission/ensemble.csv', index=False)"
   ]
  }
 ],
 "metadata": {
  "kernelspec": {
   "display_name": "Python 3 (ipykernel)",
   "language": "python",
   "name": "python3"
  },
  "language_info": {
   "codemirror_mode": {
    "name": "ipython",
    "version": 3
   },
   "file_extension": ".py",
   "mimetype": "text/x-python",
   "name": "python",
   "nbconvert_exporter": "python",
   "pygments_lexer": "ipython3",
   "version": "3.8.13"
  }
 },
 "nbformat": 4,
 "nbformat_minor": 5
}
