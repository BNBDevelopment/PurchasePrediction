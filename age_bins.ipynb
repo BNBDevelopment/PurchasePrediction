{
 "cells": [
  {
   "cell_type": "code",
   "execution_count": 1,
   "id": "25b9b5a0",
   "metadata": {},
   "outputs": [],
   "source": [
    "import numpy as np\n",
    "import pandas as pd\n",
    "from tqdm import tqdm\n",
    "from collections import Counter\n",
    "tqdm.pandas()"
   ]
  },
  {
   "cell_type": "code",
   "execution_count": 2,
   "id": "615eccf1",
   "metadata": {},
   "outputs": [],
   "source": [
    "customers = pd.read_csv('./data/customers.csv', usecols=['customer_id', 'age'])"
   ]
  },
  {
   "cell_type": "code",
   "execution_count": 3,
   "id": "b6f954a4",
   "metadata": {},
   "outputs": [],
   "source": [
    "age_bins = [-1, 19, 29, 39, 49, 59, 69, 119]\n",
    "customers['age_bins'] = pd.cut(customers['age'], age_bins)"
   ]
  },
  {
   "cell_type": "code",
   "execution_count": 4,
   "id": "27868ba9",
   "metadata": {},
   "outputs": [],
   "source": [
    "transactions = pd.read_csv('./data/transactions_train.csv',  \n",
    "                           usecols=['t_dat', 'customer_id', 'article_id'],\n",
    "                           dtype={'article_id': str, 'customer_id': str},\n",
    "                           parse_dates=['t_dat'],\n",
    "                          )"
   ]
  },
  {
   "cell_type": "code",
   "execution_count": 5,
   "id": "fc55def7",
   "metadata": {},
   "outputs": [],
   "source": [
    "submission = pd.read_csv('./data/sample_submission.csv',\n",
    "                            usecols= ['customer_id'], \n",
    "                            dtype={'customer_id': 'string'})"
   ]
  },
  {
   "cell_type": "code",
   "execution_count": 6,
   "id": "892b0a13",
   "metadata": {},
   "outputs": [],
   "source": [
    "N = 12\n",
    "bins = customers['age_bins'].unique().tolist()"
   ]
  },
  {
   "cell_type": "code",
   "execution_count": 7,
   "id": "f4621364",
   "metadata": {},
   "outputs": [],
   "source": [
    "def calculate_growth_factor(df):\n",
    "    last_ts = df['t_dat'].max()\n",
    "    df['dow'] = df['t_dat'].dt.dayofweek\n",
    "    df['last_day_sale_cycle'] = df['t_dat'] - pd.TimedeltaIndex(df['dow'] - 1, unit='D')\n",
    "    df.loc[df['dow'] >=2 , 'last_day_sale_cycle'] = df.loc[df['dow'] >=2 , 'last_day_sale_cycle'] + pd.TimedeltaIndex(np.ones(len(df.loc[df['dow'] >=2])) * 7, unit='D')\n",
    "\n",
    "    df = df.drop('dow',axis=1)\n",
    "    \n",
    "    weekly_sales = df.drop('customer_id', axis=1).groupby(['last_day_sale_cycle', 'article_id']).count().reset_index()\n",
    "    weekly_sales = weekly_sales.rename(columns={'t_dat': 'count'})\n",
    "    \n",
    "    df = df.merge(weekly_sales, on=['last_day_sale_cycle', 'article_id'], how = 'left')\n",
    "    \n",
    "    weekly_sales = weekly_sales.reset_index().set_index('article_id')\n",
    "\n",
    "    df = df.merge(\n",
    "        weekly_sales.loc[weekly_sales['last_day_sale_cycle']==last_ts, ['count']],\n",
    "        on='article_id', suffixes=(\"\", \"_targ\"))\n",
    "\n",
    "    df['count_targ'].fillna(0, inplace=True)\n",
    "    del weekly_sales\n",
    "    \n",
    "    df['growth_factor'] = df['count_targ'] / df['count']\n",
    "    return df"
   ]
  },
  {
   "cell_type": "code",
   "execution_count": 8,
   "id": "5d6cc1b3",
   "metadata": {},
   "outputs": [],
   "source": [
    "def get_general_prediction_using_growth_factor(df):\n",
    "    target_sales = df.drop('customer_id', axis=1).groupby('article_id')['growth_factor'].sum()\n",
    "    general_pred = target_sales.nlargest(N).index.tolist()\n",
    "    del target_sales\n",
    "    return general_pred"
   ]
  },
  {
   "cell_type": "code",
   "execution_count": 9,
   "id": "343f8a01",
   "metadata": {},
   "outputs": [],
   "source": [
    "def week_decay(df):\n",
    "    last_ts = df['t_dat'].max()\n",
    "    df['diff_days'] = (last_ts - df['t_dat']).dt.days\n",
    "    df.loc[df['diff_days'] < 1, 'diff_days'] = 1\n",
    "\n",
    "    a, b, c, d = 2.5e4, 1.5e5, 2e-1, 1e3\n",
    "    df['decay_factor'] = a / np.sqrt(df['diff_days']) + b * np.exp(-c*df['diff_days']) - d\n",
    "\n",
    "\n",
    "    df.loc[df['decay_factor'] < 0, 'decay_factor'] = 0\n",
    "    df['value'] = df['growth_factor'] * df['decay_factor'] \n",
    "\n",
    "    df = df.groupby(['customer_id', 'article_id']).agg({'value': 'sum'})\n",
    "    df = df.reset_index()\n",
    "\n",
    "    df = df.loc[df['value'] > 0]\n",
    "    df['rank'] = df.groupby(\"customer_id\")[\"value\"].rank(\"dense\", ascending=False)\n",
    "    df = df.loc[df['rank'] <= 12]\n",
    "    return df"
   ]
  },
  {
   "cell_type": "code",
   "execution_count": 10,
   "id": "091e6552",
   "metadata": {},
   "outputs": [],
   "source": [
    "for _bin in bins:\n",
    "    df  = transactions.copy()\n",
    "    if str(_bin) == 'nan':\n",
    "        bin_customers = customers[customers['age_bins'].isnull()]\n",
    "    else:\n",
    "        bin_customers = customers[customers['age_bins'] == _bin]\n",
    "    \n",
    "    bin_customers = bin_customers.drop(['age_bins'], axis=1)\n",
    "   \n",
    "    df = df.merge(bin_customers['customer_id'], on='customer_id', how='inner')\n",
    "    \n",
    "    df = calculate_growth_factor(df)\n",
    "    \n",
    "    general_pred = get_general_prediction_using_growth_factor(df)\n",
    "    \n",
    "    df = week_decay(df)\n",
    "    \n",
    "    prediction_df = df.sort_values(['customer_id', 'value'], ascending = False).reset_index(drop = True)\n",
    "    prediction_df = prediction_df.groupby('customer_id').agg({'article_id': list}).reset_index()\n",
    "    prediction_df = prediction_df.rename(columns={'article_id': 'prediction'})\n",
    "    \n",
    "    partial_submission = submission.copy()\n",
    "    partial_submission = partial_submission.merge(bin_customers['customer_id'], on='customer_id', how='inner')\n",
    "    partial_submission = partial_submission.merge(prediction_df, left_on = 'customer_id', right_on = 'customer_id', how = 'left')\n",
    "\n",
    "    partial_submission['prediction'] = partial_submission['prediction'].fillna({i: general_pred for i in submission.index})\n",
    "    partial_submission['prediction'] = partial_submission['prediction'].apply(lambda x: x + general_pred[:12 - len(x)])\n",
    "    partial_submission['prediction'] = partial_submission['prediction'].apply(lambda x: ' '.join(x))\n",
    "    partial_submission['prediction'] = partial_submission['prediction'].str.strip()\n",
    "    partial_submission.to_csv(f'./misc/submission_' + str(_bin) + '.csv',index=False)"
   ]
  },
  {
   "cell_type": "code",
   "execution_count": 11,
   "id": "c68b22c2",
   "metadata": {},
   "outputs": [],
   "source": [
    "for i, _bin in enumerate(bins):\n",
    "    partial_submission  = pd.read_csv(f'./misc/submission_' + str(_bin) + '.csv')\n",
    "    if i == 0:\n",
    "        submission = partial_submission\n",
    "    else:\n",
    "        submission = pd.concat([submission, partial_submission], axis=0)\n",
    "\n",
    "submission.to_csv(f'./submission/age_bins.csv', index=False)"
   ]
  }
 ],
 "metadata": {
  "kernelspec": {
   "display_name": "Python 3 (ipykernel)",
   "language": "python",
   "name": "python3"
  },
  "language_info": {
   "codemirror_mode": {
    "name": "ipython",
    "version": 3
   },
   "file_extension": ".py",
   "mimetype": "text/x-python",
   "name": "python",
   "nbconvert_exporter": "python",
   "pygments_lexer": "ipython3",
   "version": "3.8.13"
  }
 },
 "nbformat": 4,
 "nbformat_minor": 5
}
