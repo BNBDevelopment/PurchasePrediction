{
 "cells": [
  {
   "cell_type": "code",
   "execution_count": 1,
   "id": "86bb037c",
   "metadata": {},
   "outputs": [],
   "source": [
    "import pandas as pd"
   ]
  },
  {
   "cell_type": "code",
   "execution_count": 2,
   "id": "ee3214d1",
   "metadata": {},
   "outputs": [],
   "source": [
    "transactions = pd.read_csv('./data/transactions_train.csv', dtype={'article_id': str}, parse_dates=['t_dat'])\n",
    "transactions = transactions[transactions['t_dat'] >= '2020-09-01']"
   ]
  },
  {
   "cell_type": "code",
   "execution_count": 3,
   "id": "4c6040ab",
   "metadata": {},
   "outputs": [],
   "source": [
    "submission = pd.read_csv('./data/sample_submission.csv')"
   ]
  },
  {
   "cell_type": "code",
   "execution_count": 4,
   "id": "5ae80bb3",
   "metadata": {},
   "outputs": [],
   "source": [
    "most_bought_items_per_user = transactions.groupby([\"customer_id\", \"article_id\"])[[\"article_id\"]].count()\n",
    "most_bought_items_per_user.columns = [\"purchase_count\"]\n",
    "most_bought_items_per_user = most_bought_items_per_user.reset_index()\n",
    "most_bought_items_per_user = most_bought_items_per_user.sort_values([\"customer_id\", \"purchase_count\"], ascending=False)\n",
    "most_bought_items_per_user = most_bought_items_per_user.groupby(\"customer_id\")[\"article_id\"].apply(list)"
   ]
  },
  {
   "cell_type": "code",
   "execution_count": 5,
   "id": "b3cbcb20",
   "metadata": {},
   "outputs": [],
   "source": [
    "most_bought_items = list(transactions['article_id'].value_counts().index[:12])"
   ]
  },
  {
   "cell_type": "code",
   "execution_count": 6,
   "id": "3125f315",
   "metadata": {},
   "outputs": [],
   "source": [
    "submission[\"prediction\"] = submission[\"customer_id\"].map(most_bought_items_per_user)\n",
    "submission[\"prediction\"] = submission[\"prediction\"].apply(lambda x: x if isinstance(x, list) else [])\n",
    "submission[\"prediction\"] = submission[\"prediction\"].apply(lambda x: x[:12] + most_bought_items[:12-len(x)])\n",
    "submission[\"prediction\"] = submission[\"prediction\"].apply(lambda x: \" \".join(x))\n",
    "submission.to_csv('./submission/stat_submission_10.csv', index=False)"
   ]
  },
  {
   "cell_type": "code",
   "execution_count": null,
   "id": "bd7da50b",
   "metadata": {},
   "outputs": [],
   "source": []
  }
 ],
 "metadata": {
  "kernelspec": {
   "display_name": "Python 3 (ipykernel)",
   "language": "python",
   "name": "python3"
  },
  "language_info": {
   "codemirror_mode": {
    "name": "ipython",
    "version": 3
   },
   "file_extension": ".py",
   "mimetype": "text/x-python",
   "name": "python",
   "nbconvert_exporter": "python",
   "pygments_lexer": "ipython3",
   "version": "3.8.13"
  }
 },
 "nbformat": 4,
 "nbformat_minor": 5
}
