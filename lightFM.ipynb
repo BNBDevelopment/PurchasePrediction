{
 "cells": [
  {
   "cell_type": "code",
   "execution_count": 1,
   "id": "8c292474",
   "metadata": {},
   "outputs": [],
   "source": [
    "import pandas as pd\n",
    "import numpy as np\n",
    "from scipy.sparse import coo_matrix\n",
    "from lightfm import LightFM \n",
    "from lightfm.data import Dataset\n",
    "from lightfm.evaluation import auc_score, precision_at_k\n",
    "import time\n",
    "from collections import defaultdict\n",
    "import csv\n",
    "import tqdm\n",
    "import pickle\n",
    "import random\n",
    "random.seed(42)"
   ]
  },
  {
   "cell_type": "code",
   "execution_count": 2,
   "id": "8ed3b02a",
   "metadata": {},
   "outputs": [],
   "source": [
    "transactions = pd.read_csv('./data/transactions_train.csv', dtype={'article_id': str}, parse_dates=['t_dat'])"
   ]
  },
  {
   "cell_type": "code",
   "execution_count": 3,
   "id": "b2b1b8e0",
   "metadata": {},
   "outputs": [],
   "source": [
    "customers = pd.read_csv('./data/customers.csv')"
   ]
  },
  {
   "cell_type": "code",
   "execution_count": 4,
   "id": "9c298c1c",
   "metadata": {},
   "outputs": [],
   "source": [
    "articles = pd.read_csv('./data/articles.csv', dtype={'article_id': str})"
   ]
  },
  {
   "cell_type": "code",
   "execution_count": 5,
   "id": "2ad2812f",
   "metadata": {},
   "outputs": [],
   "source": [
    "customers['Active'].fillna(0, inplace=True)"
   ]
  },
  {
   "cell_type": "code",
   "execution_count": 6,
   "id": "e06d875f",
   "metadata": {},
   "outputs": [],
   "source": [
    "customers['FN'].fillna(0, inplace=True)"
   ]
  },
  {
   "cell_type": "code",
   "execution_count": 7,
   "id": "a43ad73b",
   "metadata": {},
   "outputs": [],
   "source": [
    "customers['fashion_news_frequency'].fillna('NONE', inplace=True)"
   ]
  },
  {
   "cell_type": "code",
   "execution_count": 8,
   "id": "fe77fe05",
   "metadata": {},
   "outputs": [],
   "source": [
    "customers.fashion_news_frequency.replace(to_replace={'None': 'NONE'}, inplace=True)"
   ]
  },
  {
   "cell_type": "code",
   "execution_count": 9,
   "id": "c6075e9f",
   "metadata": {},
   "outputs": [],
   "source": [
    "customers.club_member_status.fillna('LEFT CLUB', inplace=True)"
   ]
  },
  {
   "cell_type": "code",
   "execution_count": 10,
   "id": "05dbd926",
   "metadata": {},
   "outputs": [],
   "source": [
    "def get_user_features(df, columns):\n",
    "    user_features = set()\n",
    "    for column in columns:\n",
    "        for value in df[column].unique():\n",
    "            user_features.add(f'{column}:{value}')\n",
    "    return user_features"
   ]
  },
  {
   "cell_type": "code",
   "execution_count": 11,
   "id": "ec3c5df7",
   "metadata": {},
   "outputs": [],
   "source": [
    "user_features = get_user_features(customers, ['fashion_news_frequency', 'club_member_status', 'Active'])"
   ]
  },
  {
   "cell_type": "code",
   "execution_count": 12,
   "id": "e1c3ee56",
   "metadata": {},
   "outputs": [],
   "source": [
    "def get_item_features(df, columns):\n",
    "    item_features = set()\n",
    "    for column in columns:\n",
    "        for value in df[column].unique():\n",
    "            item_features.add(f'{column}:{value}')\n",
    "    return item_features"
   ]
  },
  {
   "cell_type": "code",
   "execution_count": 13,
   "id": "d137b05d",
   "metadata": {},
   "outputs": [],
   "source": [
    "item_features = get_item_features(articles, articles.columns.to_list())"
   ]
  },
  {
   "cell_type": "code",
   "execution_count": 14,
   "id": "6c9002cd",
   "metadata": {},
   "outputs": [],
   "source": [
    "dataset = Dataset()\n",
    "dataset.fit(users=customers['customer_id'], \n",
    "            items=articles['article_id'],\n",
    "            user_features=user_features,\n",
    "            item_features=item_features\n",
    "            )"
   ]
  },
  {
   "cell_type": "code",
   "execution_count": 15,
   "id": "d6cefc75",
   "metadata": {},
   "outputs": [],
   "source": [
    "train_set = transactions[(transactions.t_dat>='2020-8-15')&(transactions.t_dat<='2020-9-15')]\n",
    "val_set = transactions[(transactions.t_dat>='2020-9-16')&(transactions.t_dat<='2020-9-22')]"
   ]
  },
  {
   "cell_type": "code",
   "execution_count": 16,
   "id": "de2eaf65",
   "metadata": {},
   "outputs": [],
   "source": [
    "(interactions, weights) = dataset.build_interactions(train_set.iloc[:, 1:3].values)\n",
    "(val_interactions, val_weights) = dataset.build_interactions(val_set.iloc[:, 1:3].values)"
   ]
  },
  {
   "cell_type": "code",
   "execution_count": 17,
   "id": "e8b13182",
   "metadata": {},
   "outputs": [],
   "source": [
    "user_features = dataset.build_user_features([(row['customer_id'], \n",
    "  [f'fashion_news_frequency:{row[\"fashion_news_frequency\"]}', \n",
    "   f'club_member_status:{row[\"club_member_status\"]}', f'Active:{row[\"Active\"]}']) for _, row in customers.iterrows()])"
   ]
  },
  {
   "cell_type": "code",
   "execution_count": 18,
   "id": "e0d037a4",
   "metadata": {},
   "outputs": [],
   "source": [
    "item_features = dataset.build_item_features([(row['article_id'], \n",
    "  [ \n",
    "    f'product_type_no:{row[\"product_type_no\"]}', \n",
    "    f'product_group_name:{row[\"product_group_name\"]}',\n",
    "    f'colour_group_code:{row[\"colour_group_code\"]}',\n",
    "    f'perceived_colour_value_id:{row[\"perceived_colour_value_id\"]}',\n",
    "    f'perceived_colour_master_id:{row[\"perceived_colour_master_id\"]}',\n",
    "    f'department_no:{row[\"department_no\"]}',\n",
    "    f'index_code:{row[\"index_code\"]}',\n",
    "    f'index_group_no:{row[\"index_group_no\"]}',\n",
    "    f'section_no:{row[\"section_no\"]}',\n",
    "    f'garment_group_no:{row[\"garment_group_no\"]}',\n",
    "  ]) for _, row in articles.iterrows()])"
   ]
  },
  {
   "cell_type": "code",
   "execution_count": 19,
   "id": "6795d52c",
   "metadata": {},
   "outputs": [],
   "source": [
    "model = LightFM(loss='warp', random_state=np.random.RandomState(42))"
   ]
  },
  {
   "cell_type": "code",
   "execution_count": 20,
   "id": "a47c2dd7",
   "metadata": {},
   "outputs": [
    {
     "name": "stderr",
     "output_type": "stream",
     "text": [
      "Epoch:   1%|██▋                                                                                                                                                                                                                                                                          | 10/1000 [00:56<1:32:56,  5.63s/it]\n"
     ]
    },
    {
     "ename": "KeyboardInterrupt",
     "evalue": "",
     "output_type": "error",
     "traceback": [
      "\u001b[0;31m---------------------------------------------------------------------------\u001b[0m",
      "\u001b[0;31mKeyboardInterrupt\u001b[0m                         Traceback (most recent call last)",
      "Input \u001b[0;32mIn [20]\u001b[0m, in \u001b[0;36m<cell line: 5>\u001b[0;34m()\u001b[0m\n\u001b[1;32m      3\u001b[0m model\u001b[38;5;241m.\u001b[39muser_alpha\u001b[38;5;241m=\u001b[39m\u001b[38;5;241m1e-6\u001b[39m\n\u001b[1;32m      4\u001b[0m model\u001b[38;5;241m.\u001b[39mlearning_rate\u001b[38;5;241m=\u001b[39m\u001b[38;5;241m0.25\u001b[39m\n\u001b[0;32m----> 5\u001b[0m \u001b[43mmodel\u001b[49m\u001b[38;5;241;43m.\u001b[39;49m\u001b[43mfit\u001b[49m\u001b[43m(\u001b[49m\u001b[43minteractions\u001b[49m\u001b[38;5;241;43m=\u001b[39;49m\u001b[43minteractions\u001b[49m\u001b[43m,\u001b[49m\u001b[43m \u001b[49m\u001b[43muser_features\u001b[49m\u001b[38;5;241;43m=\u001b[39;49m\u001b[43muser_features\u001b[49m\u001b[43m,\u001b[49m\u001b[43m \u001b[49m\u001b[43mitem_features\u001b[49m\u001b[38;5;241;43m=\u001b[39;49m\u001b[43mitem_features\u001b[49m\u001b[43m,\u001b[49m\u001b[43m \u001b[49m\n\u001b[1;32m      6\u001b[0m \u001b[43m  \u001b[49m\u001b[43mepochs\u001b[49m\u001b[38;5;241;43m=\u001b[39;49m\u001b[38;5;241;43m1000\u001b[39;49m\u001b[43m,\u001b[49m\u001b[43m \u001b[49m\u001b[43mverbose\u001b[49m\u001b[38;5;241;43m=\u001b[39;49m\u001b[38;5;241;43m1\u001b[39;49m\u001b[43m,\u001b[49m\u001b[43m \u001b[49m\u001b[43mnum_threads\u001b[49m\u001b[38;5;241;43m=\u001b[39;49m\u001b[38;5;241;43m6\u001b[39;49m\u001b[43m)\u001b[49m\n\u001b[1;32m      7\u001b[0m val_precision \u001b[38;5;241m=\u001b[39m precision_at_k(model, val_interactions, user_features\u001b[38;5;241m=\u001b[39muser_features, item_features\u001b[38;5;241m=\u001b[39mitem_features, k\u001b[38;5;241m=\u001b[39m\u001b[38;5;241m12\u001b[39m, num_threads\u001b[38;5;241m=\u001b[39m\u001b[38;5;241m6\u001b[39m)\u001b[38;5;241m.\u001b[39mmean()\n\u001b[1;32m      8\u001b[0m \u001b[38;5;28mprint\u001b[39m(model\u001b[38;5;241m.\u001b[39mget_params(), val_precision)\n",
      "File \u001b[0;32m~/anaconda3/envs/csci_567_project/lib/python3.8/site-packages/lightfm/lightfm.py:533\u001b[0m, in \u001b[0;36mLightFM.fit\u001b[0;34m(self, interactions, user_features, item_features, sample_weight, epochs, num_threads, verbose)\u001b[0m\n\u001b[1;32m    530\u001b[0m \u001b[38;5;66;03m# Discard old results, if any\u001b[39;00m\n\u001b[1;32m    531\u001b[0m \u001b[38;5;28mself\u001b[39m\u001b[38;5;241m.\u001b[39m_reset_state()\n\u001b[0;32m--> 533\u001b[0m \u001b[38;5;28;01mreturn\u001b[39;00m \u001b[38;5;28;43mself\u001b[39;49m\u001b[38;5;241;43m.\u001b[39;49m\u001b[43mfit_partial\u001b[49m\u001b[43m(\u001b[49m\n\u001b[1;32m    534\u001b[0m \u001b[43m    \u001b[49m\u001b[43minteractions\u001b[49m\u001b[43m,\u001b[49m\n\u001b[1;32m    535\u001b[0m \u001b[43m    \u001b[49m\u001b[43muser_features\u001b[49m\u001b[38;5;241;43m=\u001b[39;49m\u001b[43muser_features\u001b[49m\u001b[43m,\u001b[49m\n\u001b[1;32m    536\u001b[0m \u001b[43m    \u001b[49m\u001b[43mitem_features\u001b[49m\u001b[38;5;241;43m=\u001b[39;49m\u001b[43mitem_features\u001b[49m\u001b[43m,\u001b[49m\n\u001b[1;32m    537\u001b[0m \u001b[43m    \u001b[49m\u001b[43msample_weight\u001b[49m\u001b[38;5;241;43m=\u001b[39;49m\u001b[43msample_weight\u001b[49m\u001b[43m,\u001b[49m\n\u001b[1;32m    538\u001b[0m \u001b[43m    \u001b[49m\u001b[43mepochs\u001b[49m\u001b[38;5;241;43m=\u001b[39;49m\u001b[43mepochs\u001b[49m\u001b[43m,\u001b[49m\n\u001b[1;32m    539\u001b[0m \u001b[43m    \u001b[49m\u001b[43mnum_threads\u001b[49m\u001b[38;5;241;43m=\u001b[39;49m\u001b[43mnum_threads\u001b[49m\u001b[43m,\u001b[49m\n\u001b[1;32m    540\u001b[0m \u001b[43m    \u001b[49m\u001b[43mverbose\u001b[49m\u001b[38;5;241;43m=\u001b[39;49m\u001b[43mverbose\u001b[49m\u001b[43m,\u001b[49m\n\u001b[1;32m    541\u001b[0m \u001b[43m\u001b[49m\u001b[43m)\u001b[49m\n",
      "File \u001b[0;32m~/anaconda3/envs/csci_567_project/lib/python3.8/site-packages/lightfm/lightfm.py:638\u001b[0m, in \u001b[0;36mLightFM.fit_partial\u001b[0;34m(self, interactions, user_features, item_features, sample_weight, epochs, num_threads, verbose)\u001b[0m\n\u001b[1;32m    635\u001b[0m     \u001b[38;5;28;01mraise\u001b[39;00m \u001b[38;5;167;01mValueError\u001b[39;00m(\u001b[38;5;124m\"\u001b[39m\u001b[38;5;124mNumber of threads must be 1 or larger.\u001b[39m\u001b[38;5;124m\"\u001b[39m)\n\u001b[1;32m    637\u001b[0m \u001b[38;5;28;01mfor\u001b[39;00m _ \u001b[38;5;129;01min\u001b[39;00m \u001b[38;5;28mself\u001b[39m\u001b[38;5;241m.\u001b[39m_progress(epochs, verbose\u001b[38;5;241m=\u001b[39mverbose):\n\u001b[0;32m--> 638\u001b[0m     \u001b[38;5;28;43mself\u001b[39;49m\u001b[38;5;241;43m.\u001b[39;49m\u001b[43m_run_epoch\u001b[49m\u001b[43m(\u001b[49m\n\u001b[1;32m    639\u001b[0m \u001b[43m        \u001b[49m\u001b[43mitem_features\u001b[49m\u001b[43m,\u001b[49m\n\u001b[1;32m    640\u001b[0m \u001b[43m        \u001b[49m\u001b[43muser_features\u001b[49m\u001b[43m,\u001b[49m\n\u001b[1;32m    641\u001b[0m \u001b[43m        \u001b[49m\u001b[43minteractions\u001b[49m\u001b[43m,\u001b[49m\n\u001b[1;32m    642\u001b[0m \u001b[43m        \u001b[49m\u001b[43msample_weight_data\u001b[49m\u001b[43m,\u001b[49m\n\u001b[1;32m    643\u001b[0m \u001b[43m        \u001b[49m\u001b[43mnum_threads\u001b[49m\u001b[43m,\u001b[49m\n\u001b[1;32m    644\u001b[0m \u001b[43m        \u001b[49m\u001b[38;5;28;43mself\u001b[39;49m\u001b[38;5;241;43m.\u001b[39;49m\u001b[43mloss\u001b[49m\u001b[43m,\u001b[49m\n\u001b[1;32m    645\u001b[0m \u001b[43m    \u001b[49m\u001b[43m)\u001b[49m\n\u001b[1;32m    647\u001b[0m     \u001b[38;5;28mself\u001b[39m\u001b[38;5;241m.\u001b[39m_check_finite()\n\u001b[1;32m    649\u001b[0m \u001b[38;5;28;01mreturn\u001b[39;00m \u001b[38;5;28mself\u001b[39m\n",
      "File \u001b[0;32m~/anaconda3/envs/csci_567_project/lib/python3.8/site-packages/lightfm/lightfm.py:679\u001b[0m, in \u001b[0;36mLightFM._run_epoch\u001b[0;34m(self, item_features, user_features, interactions, sample_weight, num_threads, loss)\u001b[0m\n\u001b[1;32m    677\u001b[0m \u001b[38;5;66;03m# Call the estimation routines.\u001b[39;00m\n\u001b[1;32m    678\u001b[0m \u001b[38;5;28;01mif\u001b[39;00m loss \u001b[38;5;241m==\u001b[39m \u001b[38;5;124m\"\u001b[39m\u001b[38;5;124mwarp\u001b[39m\u001b[38;5;124m\"\u001b[39m:\n\u001b[0;32m--> 679\u001b[0m     \u001b[43mfit_warp\u001b[49m\u001b[43m(\u001b[49m\n\u001b[1;32m    680\u001b[0m \u001b[43m        \u001b[49m\u001b[43mCSRMatrix\u001b[49m\u001b[43m(\u001b[49m\u001b[43mitem_features\u001b[49m\u001b[43m)\u001b[49m\u001b[43m,\u001b[49m\n\u001b[1;32m    681\u001b[0m \u001b[43m        \u001b[49m\u001b[43mCSRMatrix\u001b[49m\u001b[43m(\u001b[49m\u001b[43muser_features\u001b[49m\u001b[43m)\u001b[49m\u001b[43m,\u001b[49m\n\u001b[1;32m    682\u001b[0m \u001b[43m        \u001b[49m\u001b[43mpositives_lookup\u001b[49m\u001b[43m,\u001b[49m\n\u001b[1;32m    683\u001b[0m \u001b[43m        \u001b[49m\u001b[43minteractions\u001b[49m\u001b[38;5;241;43m.\u001b[39;49m\u001b[43mrow\u001b[49m\u001b[43m,\u001b[49m\n\u001b[1;32m    684\u001b[0m \u001b[43m        \u001b[49m\u001b[43minteractions\u001b[49m\u001b[38;5;241;43m.\u001b[39;49m\u001b[43mcol\u001b[49m\u001b[43m,\u001b[49m\n\u001b[1;32m    685\u001b[0m \u001b[43m        \u001b[49m\u001b[43minteractions\u001b[49m\u001b[38;5;241;43m.\u001b[39;49m\u001b[43mdata\u001b[49m\u001b[43m,\u001b[49m\n\u001b[1;32m    686\u001b[0m \u001b[43m        \u001b[49m\u001b[43msample_weight\u001b[49m\u001b[43m,\u001b[49m\n\u001b[1;32m    687\u001b[0m \u001b[43m        \u001b[49m\u001b[43mshuffle_indices\u001b[49m\u001b[43m,\u001b[49m\n\u001b[1;32m    688\u001b[0m \u001b[43m        \u001b[49m\u001b[43mlightfm_data\u001b[49m\u001b[43m,\u001b[49m\n\u001b[1;32m    689\u001b[0m \u001b[43m        \u001b[49m\u001b[38;5;28;43mself\u001b[39;49m\u001b[38;5;241;43m.\u001b[39;49m\u001b[43mlearning_rate\u001b[49m\u001b[43m,\u001b[49m\n\u001b[1;32m    690\u001b[0m \u001b[43m        \u001b[49m\u001b[38;5;28;43mself\u001b[39;49m\u001b[38;5;241;43m.\u001b[39;49m\u001b[43mitem_alpha\u001b[49m\u001b[43m,\u001b[49m\n\u001b[1;32m    691\u001b[0m \u001b[43m        \u001b[49m\u001b[38;5;28;43mself\u001b[39;49m\u001b[38;5;241;43m.\u001b[39;49m\u001b[43muser_alpha\u001b[49m\u001b[43m,\u001b[49m\n\u001b[1;32m    692\u001b[0m \u001b[43m        \u001b[49m\u001b[43mnum_threads\u001b[49m\u001b[43m,\u001b[49m\n\u001b[1;32m    693\u001b[0m \u001b[43m        \u001b[49m\u001b[38;5;28;43mself\u001b[39;49m\u001b[38;5;241;43m.\u001b[39;49m\u001b[43mrandom_state\u001b[49m\u001b[43m,\u001b[49m\n\u001b[1;32m    694\u001b[0m \u001b[43m    \u001b[49m\u001b[43m)\u001b[49m\n\u001b[1;32m    695\u001b[0m \u001b[38;5;28;01melif\u001b[39;00m loss \u001b[38;5;241m==\u001b[39m \u001b[38;5;124m\"\u001b[39m\u001b[38;5;124mbpr\u001b[39m\u001b[38;5;124m\"\u001b[39m:\n\u001b[1;32m    696\u001b[0m     fit_bpr(\n\u001b[1;32m    697\u001b[0m         CSRMatrix(item_features),\n\u001b[1;32m    698\u001b[0m         CSRMatrix(user_features),\n\u001b[0;32m   (...)\u001b[0m\n\u001b[1;32m    710\u001b[0m         \u001b[38;5;28mself\u001b[39m\u001b[38;5;241m.\u001b[39mrandom_state,\n\u001b[1;32m    711\u001b[0m     )\n",
      "\u001b[0;31mKeyboardInterrupt\u001b[0m: "
     ]
    }
   ],
   "source": [
    "model.no_components=100\n",
    "model.item_alpha=1e-6\n",
    "model.user_alpha=1e-6\n",
    "model.learning_rate=0.25\n",
    "model.fit(interactions=interactions, user_features=user_features, item_features=item_features, \n",
    "  epochs=1000, verbose=1, num_threads=6)\n",
    "val_precision = precision_at_k(model, val_interactions, user_features=user_features, item_features=item_features, k=12, num_threads=6).mean()\n",
    "print(model.get_params(), val_precision)"
   ]
  },
  {
   "cell_type": "code",
   "execution_count": null,
   "id": "ed415c27",
   "metadata": {},
   "outputs": [],
   "source": [
    "with open('./models/lightfm_submission_9.pickle', 'wb') as file:\n",
    "    pickle.dump(model, file, protocol=pickle.HIGHEST_PROTOCOL)"
   ]
  },
  {
   "cell_type": "code",
   "execution_count": null,
   "id": "7a678c3b",
   "metadata": {},
   "outputs": [],
   "source": [
    "uid_map, ufeature_map, iid_map, ifeature_map = dataset.mapping() "
   ]
  },
  {
   "cell_type": "code",
   "execution_count": null,
   "id": "5dfb11c5",
   "metadata": {},
   "outputs": [],
   "source": [
    "inv_uid_map = {v:k for k, v in uid_map.items()}\n",
    "inv_iid_map = {v:k for k, v in iid_map.items()}"
   ]
  },
  {
   "cell_type": "code",
   "execution_count": null,
   "id": "b72db4f1",
   "metadata": {},
   "outputs": [],
   "source": [
    "sample_submission = pd.read_csv('./data/sample_submission.csv')"
   ]
  },
  {
   "cell_type": "code",
   "execution_count": null,
   "id": "ced35b2d",
   "metadata": {},
   "outputs": [],
   "source": [
    "test_customer_ids = list(map(lambda x: uid_map[x], sample_submission['customer_id']))"
   ]
  },
  {
   "cell_type": "code",
   "execution_count": null,
   "id": "5cf362f7",
   "metadata": {},
   "outputs": [],
   "source": [
    "top12=transactions.groupby('article_id')['customer_id'].nunique().sort_values(ascending=False).head(12).index.astype(int)\n",
    "top12=' '.join(map(str, top12))"
   ]
  },
  {
   "cell_type": "code",
   "execution_count": null,
   "id": "e0dd468b",
   "metadata": {},
   "outputs": [],
   "source": [
    "train_user_ids = set(customers['customer_id'])"
   ]
  },
  {
   "cell_type": "code",
   "execution_count": null,
   "id": "4f4e3c9a",
   "metadata": {},
   "outputs": [],
   "source": [
    "customer_ids = []\n",
    "preds = []\n",
    "for usr_ in tqdm.tqdm(test_customer_ids, total=len(test_customer_ids)):\n",
    "    if usr_ not in train_user_ids:\n",
    "        m_opt = model.predict(np.array([usr_] * len(iid_map)), np.array(list(iid_map.values())), num_threads=6)\n",
    "        pred = np.argsort(-m_opt)[:12]\n",
    "        customer_ids.append(inv_uid_map[usr_])\n",
    "        preds.append(' '.join([inv_iid_map[p] for p in pred]).strip())\n",
    "    else:\n",
    "        customer_ids.append(inv_uid_map[usr_])\n",
    "        preds.append(top12)"
   ]
  },
  {
   "cell_type": "code",
   "execution_count": null,
   "id": "eabf07f6",
   "metadata": {},
   "outputs": [],
   "source": [
    "acustomer_ids = np.array(customer_ids).reshape(-1, 1)\n",
    "apreds = np.array(preds).reshape(-1, 1)"
   ]
  },
  {
   "cell_type": "code",
   "execution_count": null,
   "id": "889f95a3",
   "metadata": {},
   "outputs": [],
   "source": [
    "submission = pd.DataFrame(data=np.concatenate((acustomer_ids, apreds), axis=1).reshape(-1, 2), columns=['customer_id', 'prediction'])"
   ]
  },
  {
   "cell_type": "code",
   "execution_count": null,
   "id": "356ed2a0",
   "metadata": {},
   "outputs": [],
   "source": [
    "submission.to_csv('./submission/lightFM.csv', index=False)"
   ]
  }
 ],
 "metadata": {
  "kernelspec": {
   "display_name": "Python 3 (ipykernel)",
   "language": "python",
   "name": "python3"
  },
  "language_info": {
   "codemirror_mode": {
    "name": "ipython",
    "version": 3
   },
   "file_extension": ".py",
   "mimetype": "text/x-python",
   "name": "python",
   "nbconvert_exporter": "python",
   "pygments_lexer": "ipython3",
   "version": "3.8.13"
  }
 },
 "nbformat": 4,
 "nbformat_minor": 5
}
