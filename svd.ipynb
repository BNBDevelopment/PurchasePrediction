{
 "cells": [
  {
   "cell_type": "code",
   "execution_count": 1,
   "id": "b91aaa2f",
   "metadata": {},
   "outputs": [],
   "source": [
    "import numpy as np\n",
    "import pandas as pd\n",
    "import reco\n",
    "from tqdm import tqdm\n",
    "import datetime\n",
    "from collections import Counter"
   ]
  },
  {
   "cell_type": "code",
   "execution_count": 2,
   "id": "673db525",
   "metadata": {},
   "outputs": [],
   "source": [
    "transactions = pd.read_csv(\"./data/transactions_train.csv\", dtype={'article_id':str}, parse_dates=['t_dat'])"
   ]
  },
  {
   "cell_type": "code",
   "execution_count": 3,
   "id": "7ccc7e1a",
   "metadata": {},
   "outputs": [],
   "source": [
    "week_1_transactions = transactions[(transactions[\"t_dat\"] >= '2020-9-16') & (transactions['t_dat'] < '2020-9-23')]\n",
    "week_2_transactions = transactions[(transactions[\"t_dat\"] >= '2020-9-8') & (transactions['t_dat'] < '2020-9-16')]\n",
    "week_3_transactions = transactions[(transactions[\"t_dat\"] >= '2020-8-31') & (transactions['t_dat'] < '2020-9-8')]\n",
    "week_4_transactions = transactions[(transactions[\"t_dat\"] >= '2020-8-23') & (transactions['t_dat'] < '2020-8-31')]"
   ]
  },
  {
   "cell_type": "code",
   "execution_count": 4,
   "id": "451bf386",
   "metadata": {},
   "outputs": [],
   "source": [
    "recent_transactions = pd.concat([week_1_transactions, week_2_transactions], axis=0)"
   ]
  },
  {
   "cell_type": "code",
   "execution_count": 5,
   "id": "ad283810",
   "metadata": {},
   "outputs": [],
   "source": [
    "transactions = pd.concat([week_1_transactions, week_2_transactions, week_3_transactions, week_4_transactions], axis=0)"
   ]
  },
  {
   "cell_type": "code",
   "execution_count": 6,
   "id": "7b86fc91",
   "metadata": {},
   "outputs": [],
   "source": [
    "def get_most_freq_next_item(user_group):\n",
    "    next_items = {}\n",
    "    for user in tqdm(user_group.keys()):\n",
    "        items = user_group[user]\n",
    "        for i,item in enumerate(items[:-1]):\n",
    "            if item not in next_items:\n",
    "                next_items[item] = []\n",
    "            if item != items[i+1]:\n",
    "                next_items[item].append(items[i+1])\n",
    "\n",
    "    pred_next = {}\n",
    "    for item in next_items:\n",
    "        if len(next_items[item]) >= 5:\n",
    "            most_common = Counter(next_items[item]).most_common()\n",
    "            ratio = most_common[0][1]/len(next_items[item])\n",
    "            if ratio >= 0.1:\n",
    "                pred_next[item] = most_common[0][0]\n",
    "            \n",
    "    return pred_next"
   ]
  },
  {
   "cell_type": "code",
   "execution_count": 7,
   "id": "d2cd6017",
   "metadata": {},
   "outputs": [
    {
     "name": "stderr",
     "output_type": "stream",
     "text": [
      "100%|████████████████████████████████████████████████████████████████████████████████████████████████████████████████████████████████████████████████████████████████████████████████████████████████████████████████████████████████████████████████████████████████████████████| 250619/250619 [00:01<00:00, 186413.06it/s]\n"
     ]
    }
   ],
   "source": [
    "user_group = transactions.groupby(['customer_id'])['article_id'].apply(list)\n",
    "pred_next = get_most_freq_next_item(user_group)"
   ]
  },
  {
   "cell_type": "code",
   "execution_count": 8,
   "id": "8677705b",
   "metadata": {},
   "outputs": [],
   "source": [
    "week_1_purchase_per_user = week_1_transactions.groupby(['customer_id'])['article_id'].apply(list)\n",
    "week_2_purchase_per_user = week_2_transactions.groupby(['customer_id'])['article_id'].apply(list)\n",
    "week_3_purchase_per_user = week_3_transactions.groupby(['customer_id'])['article_id'].apply(list)\n",
    "week_4_purchase_per_user = week_4_transactions.groupby(['customer_id'])['article_id'].apply(list)"
   ]
  },
  {
   "cell_type": "code",
   "execution_count": 9,
   "id": "6472d305",
   "metadata": {},
   "outputs": [],
   "source": [
    "recent_transactions['popularity_factor'] = recent_transactions['t_dat'].apply(lambda x: 1/(datetime.datetime(2020,9,23) - x).days)\n",
    "recent_popular_items_group = recent_transactions.groupby(['article_id'])['popularity_factor'].sum()\n",
    "\n",
    "_, recent_popular_items = zip(*sorted(zip(recent_popular_items_group, recent_popular_items_group.keys()))[::-1])"
   ]
  },
  {
   "cell_type": "code",
   "execution_count": 10,
   "id": "05ae2d67",
   "metadata": {},
   "outputs": [],
   "source": [
    "transactions['popularity_factor'] = transactions['t_dat'].apply(lambda x: 1/(datetime.datetime(2020,9,23) - x).days**2)\n",
    "popular_items_group = transactions.groupby(['article_id'])['popularity_factor'].sum()\n",
    "\n",
    "transactions['rating'] = 1\n",
    "transactions = transactions.groupby(['customer_id', 'article_id']).sum().reset_index()\n",
    "\n",
    "transactions['rating'] = transactions.apply(lambda row: row['rating']/popular_items_group[row['article_id']], axis=1)\n",
    "\n",
    "transactions['rating'] = transactions['rating'].apply(lambda x: 5.0 if x>5.0 else x)\n",
    "transactions.drop(['price', 'sales_channel_id'], axis=1, inplace=True)"
   ]
  },
  {
   "cell_type": "code",
   "execution_count": 11,
   "id": "0d6b590c",
   "metadata": {},
   "outputs": [],
   "source": [
    "from reco.recommender import FunkSVD\n",
    "\n",
    "model = FunkSVD(k=8, learning_rate=0.005, regularizer=0.01, iterations=200, method='stochastic', bias=True)\n",
    "model.fit(X=transactions, formatizer={'user':'customer_id', 'item':'article_id', 'value':'rating'}, verbose=False)"
   ]
  },
  {
   "cell_type": "code",
   "execution_count": 12,
   "id": "3da8c159",
   "metadata": {},
   "outputs": [],
   "source": [
    "submission = pd.read_csv(\"./data/sample_submission.csv\")"
   ]
  },
  {
   "cell_type": "code",
   "execution_count": 13,
   "id": "efc2223b",
   "metadata": {},
   "outputs": [],
   "source": [
    "def get_most_frequent_items_bought(model, user, userindexes, purchase_per_user):\n",
    "    user_output = list()\n",
    "    most_common_items_of_user = {k:v for k, v in Counter(purchase_per_user[user]).most_common()}\n",
    "    user_index = userindexes[user]\n",
    "    new_order = dict()\n",
    "    for k in list(most_common_items_of_user.keys())[:20]:\n",
    "        try:\n",
    "            itemindex = model.items.index(k)\n",
    "            pred_value = np.dot(model.userfeatures[user_index], model.itemfeatures[itemindex].T) + model.item_bias[0, itemindex]\n",
    "        except:\n",
    "            pred_value = most_common_items_of_user[k]\n",
    "        new_order[k] = pred_value\n",
    "    user_output = [k for k, v in sorted(new_order.items(), key=lambda item: item[1])][:12]\n",
    "    return user_output"
   ]
  },
  {
   "cell_type": "code",
   "execution_count": 14,
   "id": "f0cb9fd7",
   "metadata": {},
   "outputs": [
    {
     "name": "stderr",
     "output_type": "stream",
     "text": [
      "100%|████████████████████████████████████████████████████████████████████████████████████████████████████████████████████████████████████████████████████████████████████████████████████████████████████████████████████████████████████████████████████████████████████████████| 1371980/1371980 [06:35<00:00, 3470.91it/s]\n"
     ]
    }
   ],
   "source": [
    "outputs = []\n",
    "popular_items = list(recent_popular_items)\n",
    "userindexes = {model.users[i]:i for i in range(len(model.users))}\n",
    "\n",
    "for user in tqdm(submission['customer_id']):\n",
    "    user_output = list()\n",
    "    if user in week_1_purchase_per_user:\n",
    "        user_output.extend(get_most_frequent_items_bought(model, user, userindexes, week_1_purchase_per_user))\n",
    "        \n",
    "    if user in week_2_purchase_per_user:\n",
    "        user_output.extend(get_most_frequent_items_bought(model, user, userindexes, week_2_purchase_per_user))\n",
    "        \n",
    "    if user in week_3_purchase_per_user:\n",
    "        user_output.extend(get_most_frequent_items_bought(model, user, userindexes, week_3_purchase_per_user))\n",
    "        \n",
    "    if user in week_4_purchase_per_user:\n",
    "        user_output.extend(get_most_frequent_items_bought(model, user, userindexes, week_4_purchase_per_user))\n",
    "        \n",
    "    user_output.extend([pred_next[item] for item in user_output if item in pred_next and pred_next[item] not in user_output])      \n",
    "    \n",
    "    user_output.extend(list(popular_items[:12 - len(user_output)]))\n",
    "    outputs.append(user_output)\n",
    "    \n",
    "str_outputs = []\n",
    "for output in outputs:\n",
    "    str_outputs.append(\" \".join([str(x) for x in output]))"
   ]
  },
  {
   "cell_type": "code",
   "execution_count": 15,
   "id": "eba42944",
   "metadata": {},
   "outputs": [],
   "source": [
    "submission['prediction'] = str_outputs\n",
    "submission.to_csv(\"./submission/svd.csv\", index=False)"
   ]
  }
 ],
 "metadata": {
  "kernelspec": {
   "display_name": "Python 3 (ipykernel)",
   "language": "python",
   "name": "python3"
  },
  "language_info": {
   "codemirror_mode": {
    "name": "ipython",
    "version": 3
   },
   "file_extension": ".py",
   "mimetype": "text/x-python",
   "name": "python",
   "nbconvert_exporter": "python",
   "pygments_lexer": "ipython3",
   "version": "3.8.13"
  }
 },
 "nbformat": 4,
 "nbformat_minor": 5
}
